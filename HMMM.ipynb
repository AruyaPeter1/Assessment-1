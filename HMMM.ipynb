{
 "cells": [
  {
   "cell_type": "markdown",
   "id": "ad4a4d68",
   "metadata": {},
   "source": [
    "# Week 13: Assessment II Study Guide\n",
    "\n",
    "This study guide covers all major topics from this semester. You are required to complete this notebook and submit it for a grade. Please follow each scenario carefully, write your code in the provided cells, and test your work. Upload the guide to your GitHub & submit the link to Canvas.\n",
    "\n",
    "Name: \n",
    "---"
   ]
  },
  {
   "cell_type": "markdown",
   "id": "0aa70080",
   "metadata": {},
   "source": [
    "---"
   ]
  },
  {
   "cell_type": "markdown",
   "id": "7016027e",
   "metadata": {},
   "source": [
    "## Problem Solving & Pseudocode"
   ]
  },
  {
   "cell_type": "markdown",
   "id": "16777101",
   "metadata": {},
   "source": [
    "**Task:** You are helping a museum set up a digital ticketing kiosk. Write a pseudocode outline for a program that asks for the number of tickets and outputs the total cost."
   ]
  },
  {
   "cell_type": "code",
   "execution_count": null,
   "id": "9bbce381",
   "metadata": {},
   "outputs": [],
   "source": [
    "# Your code here\n",
    "number of tickets = (\"what is the number of tickets?\")\n",
    "Now print The number of tickets : The number of tickets"
   ]
  },
  {
   "cell_type": "markdown",
   "id": "f955e9de",
   "metadata": {},
   "source": [
    "**Task:** Create a pseudocode plan for a vending machine that only accepts exact change and offers 3 items."
   ]
  },
  {
   "cell_type": "code",
   "execution_count": null,
   "id": "19671240",
   "metadata": {},
   "outputs": [],
   "source": [
    "# Your code here\n",
    "Vending Machine = [Snacks, Drinks, Candy]\n",
    "Payment Method = [Cash, Credit Card, Mobile Payment]\n",
    "for item in Vending Machine:\n",
    "    print(\"Available Item: \" + item)\n",
    "for method in Payment Method:\n",
    "    print(\"Payment Method: \" + method)"
   ]
  },
  {
   "cell_type": "markdown",
   "id": "2cc7e886",
   "metadata": {},
   "source": [
    "**Task:** Write a short pseudocode for a weather-based clothing advisor (cold: wear jacket, hot: wear t-shirt)."
   ]
  },
  {
   "cell_type": "code",
   "execution_count": null,
   "id": "22c1c516",
   "metadata": {},
   "outputs": [],
   "source": [
    "# Your code here\n",
    "If temperature > 30:\n",
    "    print(\"Hot: wear t-shirt\")\n",
    "\n",
    "Else:\n",
    "    print(\"Cold: wear jacket\")"
   ]
  },
  {
   "cell_type": "markdown",
   "id": "28cb0f91",
   "metadata": {},
   "source": [
    "## Variables, I/O, Expressions"
   ]
  },
  {
   "cell_type": "markdown",
   "id": "d28a3cb1",
   "metadata": {},
   "source": [
    "**Task:** At the Book Barn, customers earn points based on the number of books they buy. Ask the user for their name and number of books. Output their total points (2 points per book)."
   ]
  },
  {
   "cell_type": "code",
   "execution_count": null,
   "id": "e96099f8",
   "metadata": {},
   "outputs": [],
   "source": [
    "# Your code here\n",
    "name = input(\"Enter your name: \")\n",
    "print(f\"Hello, {name}!\")\n",
    "number_of_books = int(input(\"Enter the number of books you have: \"))\n",
    "print(f\"You have {number_of_books} books.\")\n",
    "points = number_of_books * 2\n",
    "\n",
    "if number_of_books > 2:\n",
    "    print(f\"You have a total of {points} points.\")"
   ]
  },
  {
   "cell_type": "markdown",
   "id": "e6dbd638",
   "metadata": {},
   "source": [
    "**Task:** The Greenhouse Shop is offering discounts. Ask for the original price and discount percentage, then display the final price."
   ]
  },
  {
   "cell_type": "code",
   "execution_count": null,
   "id": "17d388b7",
   "metadata": {},
   "outputs": [],
   "source": [
    "# Your code here\n",
    "original_price = float(input(\"Enter the original price of the item: \"))\n",
    "discount_percentage = float(input(\"Enter the discount percentage: \"))\n",
    "discount_amount = (discount_percentage / 100) * original_price\n",
    "final_price = original_price - discount_amount\n",
    "print(f\"The final price is: ${final_price}\")"
   ]
  },
  {
   "cell_type": "markdown",
   "id": "87b3e538",
   "metadata": {},
   "source": [
    "**Task:** Ask the user for the distance of their run in kilometers and convert it to miles. (1 km = 0.621371 miles)."
   ]
  },
  {
   "cell_type": "code",
   "execution_count": null,
   "id": "747c81a7",
   "metadata": {},
   "outputs": [],
   "source": [
    "# Your code here\n",
    "distance = float(input(\"Enter the distance traveled in kilometers: \"))\n",
    "miles = distance * 0.621371\n",
    "print(f\"The distance in miles is: {miles} miles\")"
   ]
  },
  {
   "cell_type": "markdown",
   "id": "8ee8d378",
   "metadata": {},
   "source": [
    "## Conditionals & Boolean Logic"
   ]
  },
  {
   "cell_type": "markdown",
   "id": "b3f7468e",
   "metadata": {},
   "source": [
    "**Task:** The Sleepy Sheep Café gives a free coffee if it’s before 8 AM or after 6 PM. Ask the user for the current hour (in 24h format) and determine if they get a free coffee."
   ]
  },
  {
   "cell_type": "code",
   "execution_count": null,
   "id": "7acbf0ef",
   "metadata": {},
   "outputs": [],
   "source": [
    "# Your code here\n",
    "from datetime import datetime\n",
    "time = int(input(\"Enter the time in 24-hour if its before 8am or after 6pm: \"))\n",
    "if time < 8:\n",
    "    print(\"free coffee\")\n",
    "elif time > 18:\n",
    "    print(\"free coffee\")\n",
    "else:\n",
    "    print(\"no free coffee\")\n",
    "\n",
    "\n"
   ]
  },
  {
   "cell_type": "markdown",
   "id": "7237f7a8",
   "metadata": {},
   "source": [
    "**Task:** A smart light system turns on if it’s dark and someone is home. Use booleans to model this and output the light status."
   ]
  },
  {
   "cell_type": "code",
   "execution_count": null,
   "id": "bb2f7e73",
   "metadata": {},
   "outputs": [],
   "source": [
    "# Your code here\n",
    "someone = input(\"Is somone one home? True or False:\")\n",
    "if someone == \"True\":\n",
    "    print(\"Turn on the lights\")\n",
    "else:\n",
    "    print(\"Turn off the lights\")"
   ]
  },
  {
   "cell_type": "markdown",
   "id": "526244f8",
   "metadata": {},
   "source": [
    "**Task:** Ask the user for their password. If it’s less than 8 characters, print a warning. If it includes '123', print a security alert."
   ]
  },
  {
   "cell_type": "code",
   "execution_count": null,
   "id": "6f11f5e5",
   "metadata": {},
   "outputs": [],
   "source": [
    "# Your code here\n",
    "password = input(\"Enter your password: \")\n",
    "if len(password) < 8:\n",
    "    print(\"Warning: Password is less than 8 characters.\")\n",
    "if \"123\" in password:\n",
    "    print(\"Security Alert: Password contains '123'.\")\n"
   ]
  },
  {
   "cell_type": "markdown",
   "id": "3875dfaf",
   "metadata": {},
   "source": [
    "## Loops & Iteration"
   ]
  },
  {
   "cell_type": "markdown",
   "id": "f02beb63",
   "metadata": {},
   "source": [
    "**Task:** Write a loop that prints the numbers 1-10 alongside their squares."
   ]
  },
  {
   "cell_type": "code",
   "execution_count": null,
   "id": "8d6129bf",
   "metadata": {},
   "outputs": [],
   "source": [
    "# Your code here\n",
    "for i in range(1, 11):\n",
    "    square = i * i\n",
    "    print(f\"The square of {i} is {square}\")"
   ]
  },
  {
   "cell_type": "markdown",
   "id": "5209e249",
   "metadata": {},
   "source": [
    "**Task:** You are coding a library checkout scanner. Loop to ask for 3 book titles, storing them in a list, and print them at the end."
   ]
  },
  {
   "cell_type": "code",
   "execution_count": 3,
   "id": "00104c1e",
   "metadata": {},
   "outputs": [
    {
     "name": "stdout",
     "output_type": "stream",
     "text": [
      "book name: Name menance\n",
      "book name: The hobbit\n",
      "book name: Dune\n"
     ]
    }
   ],
   "source": [
    "# Your code here\n",
    "books = [\"Name menance\", \"The hobbit\", \"Dune\"]\n",
    "for book in books:\n",
    "    print(f\"book name: {book}\")"
   ]
  },
  {
   "cell_type": "markdown",
   "id": "292e6a2c",
   "metadata": {},
   "source": [
    "**Task:** Loop through the letters in a string entered by the user and print only the vowels."
   ]
  },
  {
   "cell_type": "code",
   "execution_count": null,
   "id": "8c58e3dd",
   "metadata": {},
   "outputs": [],
   "source": [
    "# Your code here\n",
    "something = input(\"Enter something: \")\n",
    "vowels = \"aeiouAEIOU\"\n",
    "print(f\"You entered: {something}\")\n",
    "for ch in something:\n",
    "    if ch in vowels:\n",
    "        print(ch)\n"
   ]
  },
  {
   "cell_type": "markdown",
   "id": "de91c0d0",
   "metadata": {},
   "source": [
    "## Functions"
   ]
  },
  {
   "cell_type": "markdown",
   "id": "354b4706",
   "metadata": {},
   "source": [
    "**Task:** Write a function that takes a name and returns a greeting message like 'Hello, Maya!'"
   ]
  },
  {
   "cell_type": "code",
   "execution_count": null,
   "id": "9210e4fc",
   "metadata": {},
   "outputs": [],
   "source": [
    "# Your code here\n",
    "def greet(name):\n",
    "\treturn f\"Hello, {name}!\"\n",
    "\n",
    "name = input(\"Enter your name: \")\n",
    "print(greet(name))"
   ]
  },
  {
   "cell_type": "markdown",
   "id": "5e044cb4",
   "metadata": {},
   "source": [
    "**Task:** Define a function that takes two prices and returns their average cost."
   ]
  },
  {
   "cell_type": "code",
   "execution_count": null,
   "id": "058a1354",
   "metadata": {},
   "outputs": [],
   "source": [
    "def avg_cost(price1, price2):\n",
    "    return (price1 + price2) / 2\n",
    "\n",
    "avg = avg_cost(10.99, 5.49)\n",
    "print(avg_cost)"
   ]
  },
  {
   "cell_type": "markdown",
   "id": "80cc67bb",
   "metadata": {},
   "source": [
    "**Task:** Create a function called `temperature_alert` that takes a temperature in Fahrenheit and returns a message based on the value (cold/warm/hot)."
   ]
  },
  {
   "cell_type": "code",
   "execution_count": null,
   "id": "34e1ec19",
   "metadata": {},
   "outputs": [],
   "source": [
    "# Your code here\n",
    "def temperature_alert(temperature):\n",
    "    if temperature > 30:\n",
    "        return \"It's hot outside! Stay hydrated.\"\n",
    "    elif temperature < 0:\n",
    "        return \"It's freezing outside! Dress warmly.\"\n",
    "    else:\n",
    "        return \"The weather is moderate. Enjoy your day!\"\n"
   ]
  },
  {
   "cell_type": "markdown",
   "id": "cd06c504",
   "metadata": {},
   "source": [
    "## Strings & String Methods"
   ]
  },
  {
   "cell_type": "markdown",
   "id": "0d0ad812",
   "metadata": {},
   "source": [
    "**Task:** At MessageMix Co., all messages must be formatted before sending. Ask for a message, then print it in all caps and show the word count."
   ]
  },
  {
   "cell_type": "code",
   "execution_count": null,
   "id": "afb385c3",
   "metadata": {},
   "outputs": [],
   "source": [
    "# Your code here\n",
    "message = input(\"Enter a message: \")\n",
    "msg= message.upper()\n",
    "mess = msg.count()\n",
    "print(mess)"
   ]
  },
  {
   "cell_type": "markdown",
   "id": "d5669ab1",
   "metadata": {},
   "source": [
    "**Task:** Write a program that checks if a user’s email ends with '@student.edu'."
   ]
  },
  {
   "cell_type": "code",
   "execution_count": null,
   "id": "3d4c0cf1",
   "metadata": {},
   "outputs": [],
   "source": [
    "# Your code here\n",
    "email = input(\"Enter your email address: \")\n",
    "if \"@student.edu\" in email:\n",
    "    print(\"Valid student email address.\")\n",
    "else:\n",
    "    print(\"Invalid email address.\")"
   ]
  },
  {
   "cell_type": "markdown",
   "id": "48cde60b",
   "metadata": {},
   "source": [
    "**Task:** Get a string from the user and return it reversed."
   ]
  },
  {
   "cell_type": "code",
   "execution_count": null,
   "id": "ec352566",
   "metadata": {},
   "outputs": [],
   "source": [
    "# Your code here\n",
    "random = input(\"Enter a random string: \")\n",
    "reversed_string = random[::-1]\n",
    "print(f\"Reversed string: {reversed_string}\")"
   ]
  },
  {
   "cell_type": "markdown",
   "id": "ece06262",
   "metadata": {},
   "source": [
    "## Lists & Tuples"
   ]
  },
  {
   "cell_type": "markdown",
   "id": "5e45c468",
   "metadata": {},
   "source": [
    "**Task:** Create a list of your top 5 favorite foods. Then print each with its position in the list."
   ]
  },
  {
   "cell_type": "code",
   "execution_count": null,
   "id": "e2fb5796",
   "metadata": {},
   "outputs": [],
   "source": [
    "# Your code here\n",
    "favorite_food = [Sandwiches, Pizza, Sushi, Burgers, Salad]\n",
    "for food in favorite_food:\n",
    "    print(f\"I like {food}\")\n"
   ]
  },
  {
   "cell_type": "markdown",
   "id": "53c461a5",
   "metadata": {},
   "source": [
    "**Task:** A store tracks prices of items in a list. Write a function that returns the most expensive item."
   ]
  },
  {
   "cell_type": "code",
   "execution_count": null,
   "id": "ce70f582",
   "metadata": {},
   "outputs": [],
   "source": [
    "# Your code here\n",
    "def expensive_item(price):\n",
    "    if price > 100:\n",
    "        return \"This item is expensive.\"\n",
    "    else:\n",
    "        return \"This item is affordable.\"\n",
    "    price = float(input(\"Enter the price of the item: \"))"
   ]
  },
  {
   "cell_type": "markdown",
   "id": "021a659a",
   "metadata": {},
   "source": [
    "**Task:** Use a tuple to store a date (month, day, year). Write a function that formats it like 'MM/DD/YYYY'."
   ]
  },
  {
   "cell_type": "code",
   "execution_count": null,
   "id": "275766e8",
   "metadata": {},
   "outputs": [],
   "source": [
    "def format_date(date_tuple):\n",
    "    month, day, year = date_tuple\n",
    "    return f\"{int(month):02d}/{int(day):02d}/{int(year):04d}\"\n",
    "\n",
    "# example usage\n",
    "date = (10, 28, 2025)\n",
    "print(format_date(date))  # outputs: 10/28/2025"
   ]
  },
  {
   "cell_type": "markdown",
   "id": "28c00048",
   "metadata": {},
   "source": [
    "## Dictionaries & Key/Value Iteration"
   ]
  },
  {
   "cell_type": "markdown",
   "id": "49cabf6e",
   "metadata": {},
   "source": [
    "**Task:** You are tracking votes in a class election. Use a dictionary where the key is the candidate and value is the vote count. Print the total for each."
   ]
  },
  {
   "cell_type": "code",
   "execution_count": null,
   "id": "4ca0e546",
   "metadata": {},
   "outputs": [],
   "source": [
    "# Your code here\n",
    "votes = {\n",
    "    \"Alice\": 5,\n",
    "    \"Bob\": 3,\n",
    "    \"Charlie\": 7\n",
    "}\n",
    "\n",
    "# Print the total votes for each candidate\n",
    "for candidate, count in votes.items():\n",
    "    print(f\"{candidate}: {count} votes\")\n",
    "\n"
   ]
  },
  {
   "cell_type": "markdown",
   "id": "0ac466a9",
   "metadata": {},
   "source": [
    "**Task:** Build a phonebook dictionary. Ask for 3 names and phone numbers, store them, and display them neatly."
   ]
  },
  {
   "cell_type": "code",
   "execution_count": null,
   "id": "4598e431",
   "metadata": {},
   "outputs": [],
   "source": [
    "# Your code here\n",
    "# Create an empty dictionary\n",
    "phonebook = {}\n",
    "\n",
    "# Collect 3 names and phone numbers\n",
    "for i in range(3):\n",
    "    name = input(\"Enter a name: \")\n",
    "    number = input(\"Enter a phone number: \")\n",
    "    phonebook[name] = number  # Store in dictionary\n",
    "\n",
    "# Display the phonebook neatly\n",
    "print(\"\\n📖 Phonebook:\")\n",
    "for name, number in phonebook.items():\n",
    "    print(f\"{name}: {number}\")\n",
    "\n"
   ]
  },
  {
   "cell_type": "markdown",
   "id": "831073f3",
   "metadata": {},
   "source": [
    "**Task:** Create a dictionary of fruit and their prices. Then let the user type a fruit name and return its price."
   ]
  },
  {
   "cell_type": "code",
   "execution_count": null,
   "id": "a7197e38",
   "metadata": {},
   "outputs": [],
   "source": [
    "# Your code here\n",
    "fruits = {\"apple\": 2,\n",
    "    \"banana\": 3,\n",
    "    \"orange\": 5}\n",
    "fruit_name = input(\"Enter fruit name: \")\n",
    "if fruit_name in fruits:\n",
    "    print(f\"The price of {fruit_name} is ${fruits[fruit_name]}\")\n",
    "else:\n",
    "    print(\"Fruit not found.\")\n",
    "\n",
    "\n",
    "\n",
    "\n",
    "\n"
   ]
  },
  {
   "cell_type": "markdown",
   "id": "344d8fe6",
   "metadata": {},
   "source": [
    "## String Formatting & f-Strings"
   ]
  },
  {
   "cell_type": "markdown",
   "id": "60153d0a",
   "metadata": {},
   "source": [
    "**Task:** Write a program that asks for a name and age and prints: 'Meet Jordan, who is 27 years old.'"
   ]
  },
  {
   "cell_type": "code",
   "execution_count": null,
   "id": "d1248ca2",
   "metadata": {},
   "outputs": [],
   "source": [
    "# Your code here\n",
    "name = \"Jordan\"\n",
    "age = 27\n",
    "print(f\"Meet {name}, who is {age} years old.\")\n"
   ]
  },
  {
   "cell_type": "markdown",
   "id": "8d09aaf6",
   "metadata": {},
   "source": [
    "**Task:** Ask the user for 3 test scores. Print the average in a full sentence using an f-string."
   ]
  },
  {
   "cell_type": "code",
   "execution_count": 2,
   "id": "57ecee7b",
   "metadata": {},
   "outputs": [
    {
     "name": "stdout",
     "output_type": "stream",
     "text": [
      "The average score is: 6.666666666666667\n"
     ]
    }
   ],
   "source": [
    "# Your code here\n",
    "scores1 = int(input(\"Enter test scores: \"))\n",
    "scores2 = int(input(\"Enter test scores: \"))\n",
    "scores3 = int(input(\"Enter test scores: \"))\n",
    "total = scores1 + scores2 + scores3\n",
    "average = total / 3\n",
    "print(f\"The average score is: {average}\")\n"
   ]
  },
  {
   "cell_type": "markdown",
   "id": "712f4436",
   "metadata": {},
   "source": [
    "**Task:** Use `.format()` to construct a sentence that includes a person’s name, favorite hobby, and city."
   ]
  },
  {
   "cell_type": "code",
   "execution_count": null,
   "id": "556a93a9",
   "metadata": {},
   "outputs": [],
   "source": [
    "# Your code here\n",
    "name = input(\"What is your name? \")\n",
    "hobby = input(\"What is your favorite hobby? \")\n",
    "city = input(\"What city do you live in? \")\n",
    "\n",
    "sentence = \"Hello, my name is {}. I live in {} and my favorite hobby is {}.\".format(name, city, hobby)\n",
    "\n",
    "print(sentence)\n",
    "\n"
   ]
  },
  {
   "cell_type": "markdown",
   "id": "29190f50",
   "metadata": {},
   "source": [
    "## Debugging Practice"
   ]
  },
  {
   "cell_type": "markdown",
   "id": "ad883758",
   "metadata": {},
   "source": [
    "**Task:** Below is a broken function. Fix it:\n",
    "```python\n",
    "def greet(name):\n",
    "print('Hello ' + name)\n",
    "```"
   ]
  },
  {
   "cell_type": "code",
   "execution_count": null,
   "id": "d8403e5e",
   "metadata": {},
   "outputs": [],
   "source": [
    "# Your code here\n",
    "def greet(name):\n",
    "    print('Hello ' + name)\n",
    "\n",
    "# Example usage\n",
    "greet(\"Maya\")\n"
   ]
  },
  {
   "cell_type": "markdown",
   "id": "b4403344",
   "metadata": {},
   "source": [
    "**Task:** The loop below doesn’t stop. Why?\n",
    "```python\n",
    "while True:\n",
    "  print('Hi')\n",
    "```"
   ]
  },
  {
   "cell_type": "code",
   "execution_count": null,
   "id": "8f48cf1d",
   "metadata": {},
   "outputs": [
    {
     "name": "stdout",
     "output_type": "stream",
     "text": [
      "Hi\n"
     ]
    }
   ],
   "source": [
    "# Your code here\n",
    "while True:\n",
    "  print('Hi')\n",
    "  break\n",
    "\n",
    "#it needed a break function"
   ]
  },
  {
   "cell_type": "markdown",
   "id": "b15e92ef",
   "metadata": {},
   "source": [
    "**Task:** What’s wrong with this code?\n",
    "```python\n",
    "fruit = ['apple', 'banana']\n",
    "print(fruit[2])\n",
    "```"
   ]
  },
  {
   "cell_type": "code",
   "execution_count": null,
   "id": "4f84b062",
   "metadata": {},
   "outputs": [
    {
     "name": "stdout",
     "output_type": "stream",
     "text": [
      "cherry\n"
     ]
    }
   ],
   "source": [
    "# Your code here\n",
    "fruit = ['apple', 'banana', 'cherry']\n",
    "print(fruit[2])\n",
    "#it needed another funtion to call on 2"
   ]
  },
  {
   "cell_type": "markdown",
   "id": "febccdb1",
   "metadata": {},
   "source": [
    "You have been asked to design a simple meal planner program for a local community center. Each user can input a day of the week, and the program will return the meal scheduled for that day. If no meal is scheduled, the program should respond with “No meal planned.”\n",
    "\n",
    "No need to write any code here. Using problem solving techniques, break this problem down into logical steps. Your response should include:\n",
    "\n",
    "- How you would decompose this problem\n",
    "\n",
    "- What kind of data structure you would use and why\n",
    "\n",
    "- What user inputs and outputs you would expect\n",
    "\n",
    "- How you would handle missing data or invalid inputs\n",
    "    \n",
    "\n",
    "Write 1–2 well-developed paragraphs explaining your thought process."
   ]
  },
  {
   "cell_type": "markdown",
   "id": "fa6370c6",
   "metadata": {},
   "source": [
    "Your response here:\n",
    "1) I would start off by thinking about what programs i could use, food to add in the weeks, and the coding and how to start it\n",
    "2) If-else startments, input funtion, as well as dictionaries. The reason why is because dictionarys will help locate the foods for each week / key name, then the if-else statements will help in terms of letting the users input help them find the food of the week they write on the input function\n",
    "3) The user inputs i would expect would have to be the week they are asked to put in/write, and the output to be the food they are going to eat\n",
    "4) Thats where the if-else statement comes in, as if they input the wrong thing, like wrong name, or a misspelled in the wrods so if it isn;t \"in\" the dict it will have an else statement of \"error\"\n"
   ]
  }
 ],
 "metadata": {
  "kernelspec": {
   "display_name": "Python 3",
   "language": "python",
   "name": "python3"
  },
  "language_info": {
   "codemirror_mode": {
    "name": "ipython",
    "version": 3
   },
   "file_extension": ".py",
   "mimetype": "text/x-python",
   "name": "python",
   "nbconvert_exporter": "python",
   "pygments_lexer": "ipython3",
   "version": "3.12.4"
  }
 },
 "nbformat": 4,
 "nbformat_minor": 5
}
